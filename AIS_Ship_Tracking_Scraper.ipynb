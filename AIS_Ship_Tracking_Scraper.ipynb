{
 "cells": [
  {
   "cell_type": "markdown",
   "id": "376e5ee4",
   "metadata": {},
   "source": [
    "## 🛰️ AIS Ship Tracking Scraper (MarineTraffic.com)\n",
    "\n",
    "**Goal:** Scrape real-time vessel data from MarineTraffic's JSON endpoint using `Selenium`, and export structured ship metadata to CSV.\n"
   ]
  },
  {
   "cell_type": "code",
   "execution_count": null,
   "id": "d58595ab",
   "metadata": {},
   "outputs": [],
   "source": [
    "import json\n",
    "import csv\n",
    "import os\n",
    "from selenium import webdriver\n",
    "from selenium.webdriver.chrome.options import Options\n",
    "from selenium.webdriver.common.by import By\n",
    "from selenium.webdriver.support.ui import WebDriverWait\n",
    "from selenium.webdriver.support import expected_conditions as EC\n",
    "import time\n"
   ]
  },
  {
   "cell_type": "markdown",
   "id": "558a81b6",
   "metadata": {},
   "source": [
    "### 🧰 Setup Selenium WebDriver (Chrome)"
   ]
  },
  {
   "cell_type": "code",
   "execution_count": null,
   "id": "763fead0",
   "metadata": {},
   "outputs": [],
   "source": [
    "def setup_driver():\n",
    "    \"\"\"Setup Chrome driver with basic options\"\"\"\n",
    "    chrome_options = Options()\n",
    "\n",
    "    # Add user agent\n",
    "    chrome_options.add_argument(\"--user-agent=Mozilla/5.0 (Windows NT 10.0; Win64; x64) AppleWebKit/537.36 (KHTML, like Gecko) Chrome/91.0.4472.124 Safari/537.36\")\n",
    "\n",
    "    # Basic anti-detection\n",
    "    chrome_options.add_argument(\"--disable-blink-features=AutomationControlled\")\n",
    "    chrome_options.add_experimental_option(\"excludeSwitches\", [\"enable-automation\"])\n",
    "    chrome_options.add_experimental_option('useAutomationExtension', False)\n",
    "\n",
    "    # Uncomment the next line if you want to run headless (without opening browser window)\n",
    "    # chrome_options.add_argument(\"--headless\")\n",
    "\n",
    "    driver = webdriver.Chrome(options=chrome_options)\n",
    "    driver.execute_script(\"Object.defineProperty(navigator, 'webdriver', {get: () => undefined})\")\n",
    "\n",
    "    return driver\n"
   ]
  },
  {
   "cell_type": "markdown",
   "id": "d224ba0c",
   "metadata": {},
   "source": [
    "### 🌐 Scrape AIS JSON Data"
   ]
  },
  {
   "cell_type": "code",
   "execution_count": null,
   "id": "06bd7a77",
   "metadata": {},
   "outputs": [],
   "source": [
    "def scrape_data(url):\n",
    "    \"\"\"Directly scrape the API endpoint\"\"\"\n",
    "    driver = None\n",
    "    try:\n",
    "        driver = setup_driver()\n",
    "\n",
    "        print(f\"Accessing: {url}\")\n",
    "        driver.get(url)\n",
    "\n",
    "        # Wait for page to load\n",
    "        WebDriverWait(driver, 15).until(\n",
    "            EC.presence_of_element_located((By.TAG_NAME, \"body\"))\n",
    "        )\n",
    "\n",
    "        # Get the JSON data from the page\n",
    "        try:\n",
    "            # Try pre tag first (common for JSON responses)\n",
    "            pre_element = driver.find_element(By.TAG_NAME, \"pre\")\n",
    "            json_text = pre_element.text\n",
    "        except:\n",
    "            # If no pre tag, get body text\n",
    "            body_element = driver.find_element(By.TAG_NAME, \"body\")\n",
    "            json_text = body_element.text\n",
    "\n",
    "        # Parse JSON\n",
    "        data = json.loads(json_text)\n",
    "        return data\n",
    "\n",
    "    except Exception as e:\n",
    "        print(f\"Error: {e}\")\n",
    "        return None\n",
    "    finally:\n",
    "        if driver:\n",
    "            driver.quit()\n"
   ]
  },
  {
   "cell_type": "markdown",
   "id": "e4cdf83f",
   "metadata": {},
   "source": [
    "### 💾 Convert JSON to CSV"
   ]
  },
  {
   "cell_type": "code",
   "execution_count": null,
   "id": "b7c5948e",
   "metadata": {},
   "outputs": [],
   "source": [
    "def save_to_csv(data, output_path):\n",
    "    \"\"\"Convert JSON data to CSV\"\"\"\n",
    "    if not data or 'data' not in data or 'rows' not in data['data']:\n",
    "        print(\"No valid data found\")\n",
    "        return False\n",
    "\n",
    "    rows = data['data']['rows']\n",
    "    if not rows:\n",
    "        print(\"No ship data found\")\n",
    "        return False\n",
    "\n",
    "    # Create output directory if needed\n",
    "    os.makedirs(os.path.dirname(output_path), exist_ok=True)\n",
    "\n",
    "    # Get all field names\n",
    "    fieldnames = set()\n",
    "    for row in rows:\n",
    "        fieldnames.update(row.keys())\n",
    "    fieldnames = sorted(list(fieldnames))\n",
    "\n",
    "    # Write CSV\n",
    "    with open(output_path, 'w', newline='', encoding='utf-8') as csvfile:\n",
    "        writer = csv.DictWriter(csvfile, fieldnames=fieldnames)\n",
    "        writer.writeheader()\n",
    "        writer.writerows(rows)\n",
    "\n",
    "    print(f\"✅ Saved {len(rows)} ships to {output_path}\")\n",
    "    return True\n"
   ]
  },
  {
   "cell_type": "markdown",
   "id": "333acc7c",
   "metadata": {},
   "source": [
    "### 🚀 Run Main Function"
   ]
  },
  {
   "cell_type": "code",
   "execution_count": null,
   "id": "000a499f",
   "metadata": {},
   "outputs": [],
   "source": [
    "def main():\n",
    "    url = \"https://www.marinetraffic.com/getData/get_data_json_4/z:5/X:10/Y:6/station:0\"\n",
    "    output_path = r\"C:\\Users\\tesla\\Downloads\\ships.csv\"\n",
    "\n",
    "    print(\"Scraping Marine Traffic data...\")\n",
    "\n",
    "    # Scrape the data\n",
    "    data = scrape_data(url)\n",
    "\n",
    "    if data:\n",
    "        # Save to CSV\n",
    "        save_to_csv(data, output_path)\n",
    "        print(\"Done!\")\n",
    "    else:\n",
    "        print(\"Failed to get data\")\n",
    "\n",
    "if __name__ == \"__main__\":\n",
    "    main()\n"
   ]
  }
 ],
 "metadata": {
  "kernelspec": {
   "display_name": "Python 3",
   "name": "python3"
  }
 },
 "nbformat": 4,
 "nbformat_minor": 5
}